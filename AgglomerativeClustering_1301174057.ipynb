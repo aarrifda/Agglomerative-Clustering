{
  "nbformat": 4,
  "nbformat_minor": 0,
  "metadata": {
    "colab": {
      "name": "AgglomerativeClustering_1301174057",
      "provenance": []
    },
    "kernelspec": {
      "name": "python3",
      "display_name": "Python 3"
    }
  },
  "cells": [
    {
      "cell_type": "code",
      "metadata": {
        "id": "-aGajx7tQJV3",
        "colab_type": "code",
        "colab": {}
      },
      "source": [
        "#importing dataset\n",
        "import numpy as np\n",
        "import matplotlib.pyplot as plt\n",
        "import pandas as pd\n",
        "import scipy.cluster.hierarchy as sch\n",
        "from sklearn.cluster import AgglomerativeClustering\n"
      ],
      "execution_count": 0,
      "outputs": []
    },
    {
      "cell_type": "code",
      "metadata": {
        "id": "V0XexIY3QPHP",
        "colab_type": "code",
        "colab": {}
      },
      "source": [
        "#insert dataset\n",
        "Dataset = {\n",
        "    'x':[14, 25, 30, 40, 24, 79, 27, 8, 14, 60, 75, 43, 15, 33, 58, 32, 44, 62, 68],\n",
        "    'y':[55, 69, 16 , 20, 34, 35, 50, 61, 20, 14, 58, 48, 64, 35, 62, 52, 52, 49, 25]\n",
        "    } \n",
        "\n",
        "points = pd.DataFrame(Dataset,columns=['x','y'])"
      ],
      "execution_count": 0,
      "outputs": []
    },
    {
      "cell_type": "code",
      "metadata": {
        "id": "q9aUcqiEQbWN",
        "colab_type": "code",
        "outputId": "960a4cb7-ae6a-46a7-9abb-f34496843c2e",
        "colab": {
          "base_uri": "https://localhost:8080/",
          "height": 270
        }
      },
      "source": [
        "#converting data into dendogram\n",
        "dendrogram = sch.dendrogram(sch.linkage(points, method='ward'))"
      ],
      "execution_count": 20,
      "outputs": [
        {
          "output_type": "display_data",
          "data": {
            "image/png": "[encoded data removed]",
            "text/plain": [
              "<Figure size 432x288 with 1 Axes>"
            ]
          },
          "metadata": {
            "tags": []
          }
        }
      ]
    },
    {
      "cell_type": "code",
      "metadata": {
        "id": "2DpVoUJZSSlx",
        "colab_type": "code",
        "outputId": "f06080d4-6300-4ef6-c270-70bf4344307c",
        "colab": {
          "base_uri": "https://localhost:8080/",
          "height": 282
        }
      },
      "source": [
        "#converting data into dendroids\n",
        "plt.scatter(df['x'], df['y'])"
      ],
      "execution_count": 16,
      "outputs": [
        {
          "output_type": "execute_result",
          "data": {
            "text/plain": [
              "<matplotlib.collections.PathCollection at 0x7f97d8cccc50>"
            ]
          },
          "metadata": {
            "tags": []
          },
          "execution_count": 16
        },
        {
          "output_type": "display_data",
          "data": {
            "image/png": "[encoded data removed]",
            "text/plain": [
              "<Figure size 432x288 with 1 Axes>"
            ]
          },
          "metadata": {
            "tags": []
          }
        }
      ]
    },
    {
      "cell_type": "code",
      "metadata": {
        "id": "SZxftXj9SXXW",
        "colab_type": "code",
        "colab": {}
      },
      "source": [
        "#agglomerative clustering\n",
        "hc = AgglomerativeClustering(n_clusters=4, affinity='euclidean', linkage='ward')\n",
        "y_hc = hc.fit_predict(points)"
      ],
      "execution_count": 0,
      "outputs": []
    },
    {
      "cell_type": "code",
      "metadata": {
        "id": "K9aqlHbzSaZ6",
        "colab_type": "code",
        "outputId": "e3395efd-3f0e-4161-b94b-33ebad86f007",
        "colab": {
          "base_uri": "https://localhost:8080/",
          "height": 282
        }
      },
      "source": [
        "#result\n",
        "plt.scatter(df['x'], df['y'], c=hc.labels_, s= 100)"
      ],
      "execution_count": 19,
      "outputs": [
        {
          "output_type": "execute_result",
          "data": {
            "text/plain": [
              "<matplotlib.collections.PathCollection at 0x7f97d8c39198>"
            ]
          },
          "metadata": {
            "tags": []
          },
          "execution_count": 19
        },
        {
          "output_type": "display_data",
          "data": {
            "image/png": "[encoded data removed]",
            "text/plain": [
              "<Figure size 432x288 with 1 Axes>"
            ]
          },
          "metadata": {
            "tags": []
          }
        }
      ]
    },
    {
      "cell_type": "code",
      "metadata": {
        "id": "3r5HjyPtSdnv",
        "colab_type": "code",
        "colab": {}
      },
      "source": [
        ""
      ],
      "execution_count": 0,
      "outputs": []
    }
  ]
}